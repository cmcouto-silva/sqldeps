{
 "cells": [
  {
   "cell_type": "markdown",
   "id": "a0189812",
   "metadata": {},
   "source": [
    "# Quick Start"
   ]
  },
  {
   "cell_type": "code",
   "execution_count": 1,
   "id": "2fe96e35",
   "metadata": {},
   "outputs": [
    {
     "name": "stdout",
     "output_type": "stream",
     "text": [
      "/home/cmcouto-silva/Projects/sqldeps\n"
     ]
    }
   ],
   "source": [
    "# Set project as root directory\n",
    "import os\n",
    "\n",
    "if os.getcwd().endswith(\"notebooks\"):\n",
    "    os.chdir(\"..\")\n",
    "print(os.getcwd())"
   ]
  },
  {
   "cell_type": "markdown",
   "id": "08f24190",
   "metadata": {},
   "source": [
    "## API"
   ]
  },
  {
   "cell_type": "code",
   "execution_count": 2,
   "id": "bfc3d856",
   "metadata": {},
   "outputs": [
    {
     "name": "stdout",
     "output_type": "stream",
     "text": [
      "sqldeps version: 0.1.1\n"
     ]
    }
   ],
   "source": [
    "import sqldeps\n",
    "\n",
    "print(\"sqldeps version:\", sqldeps.__version__)"
   ]
  },
  {
   "cell_type": "markdown",
   "id": "3991b8d5",
   "metadata": {},
   "source": [
    "### Exploring SQL Extractor & SQLProfile"
   ]
  },
  {
   "cell_type": "code",
   "execution_count": 3,
   "id": "92574a96",
   "metadata": {},
   "outputs": [],
   "source": [
    "from sqldeps.llm_parsers import create_extractor"
   ]
  },
  {
   "cell_type": "code",
   "execution_count": 4,
   "id": "8d9f0d60",
   "metadata": {},
   "outputs": [
    {
     "name": "stdout",
     "output_type": "stream",
     "text": [
      "\u001b[0;31mSignature:\u001b[0m\n",
      "\u001b[0mcreate_extractor\u001b[0m\u001b[0;34m(\u001b[0m\u001b[0;34m\u001b[0m\n",
      "\u001b[0;34m\u001b[0m    \u001b[0mframework\u001b[0m\u001b[0;34m:\u001b[0m \u001b[0mstr\u001b[0m \u001b[0;34m=\u001b[0m \u001b[0;34m'litellm'\u001b[0m\u001b[0;34m,\u001b[0m\u001b[0;34m\u001b[0m\n",
      "\u001b[0;34m\u001b[0m    \u001b[0mmodel\u001b[0m\u001b[0;34m:\u001b[0m \u001b[0mstr\u001b[0m \u001b[0;34m|\u001b[0m \u001b[0;32mNone\u001b[0m \u001b[0;34m=\u001b[0m \u001b[0;32mNone\u001b[0m\u001b[0;34m,\u001b[0m\u001b[0;34m\u001b[0m\n",
      "\u001b[0;34m\u001b[0m    \u001b[0mparams\u001b[0m\u001b[0;34m:\u001b[0m \u001b[0mdict\u001b[0m \u001b[0;34m|\u001b[0m \u001b[0;32mNone\u001b[0m \u001b[0;34m=\u001b[0m \u001b[0;32mNone\u001b[0m\u001b[0;34m,\u001b[0m\u001b[0;34m\u001b[0m\n",
      "\u001b[0;34m\u001b[0m    \u001b[0mprompt_path\u001b[0m\u001b[0;34m:\u001b[0m \u001b[0mpathlib\u001b[0m\u001b[0;34m.\u001b[0m\u001b[0m_local\u001b[0m\u001b[0;34m.\u001b[0m\u001b[0mPath\u001b[0m \u001b[0;34m|\u001b[0m \u001b[0;32mNone\u001b[0m \u001b[0;34m=\u001b[0m \u001b[0;32mNone\u001b[0m\u001b[0;34m,\u001b[0m\u001b[0;34m\u001b[0m\n",
      "\u001b[0;34m\u001b[0m\u001b[0;34m)\u001b[0m \u001b[0;34m->\u001b[0m \u001b[0msqldeps\u001b[0m\u001b[0;34m.\u001b[0m\u001b[0mllm_parsers\u001b[0m\u001b[0;34m.\u001b[0m\u001b[0mbase\u001b[0m\u001b[0;34m.\u001b[0m\u001b[0mBaseSQLExtractor\u001b[0m\u001b[0;34m\u001b[0m\u001b[0;34m\u001b[0m\u001b[0m\n",
      "\u001b[0;31mDocstring:\u001b[0m\n",
      "Create an appropriate SQL extractor based on the specified framework.\n",
      "\n",
      "Args:\n",
      "    framework: The LLM framework to use (\"litellm\", \"groq\", \"openai\", or \"deepseek\")\n",
      "        Note: Direct framework options are maintained for backward compatibility,\n",
      "        but \"litellm\" is recommended as it provides integrations for all models\n",
      "        from multiple providers\n",
      "    model: The model name within the selected framework (uses default if None)\n",
      "    params: Additional parameters to pass to the LLM API\n",
      "    prompt_path: Path to a custom prompt YAML file\n",
      "\n",
      "Returns:\n",
      "    An instance of the appropriate SQL extractor\n",
      "\n",
      "Raises:\n",
      "    ValueError: If an unsupported framework is specified\n",
      "\u001b[0;31mFile:\u001b[0m      ~/Projects/sqldeps/sqldeps/llm_parsers/__init__.py\n",
      "\u001b[0;31mType:\u001b[0m      function"
     ]
    }
   ],
   "source": [
    "# `create_extractor` is a wrapper to instantiate the target SQL extractor\n",
    "# Every extractor is derivd from the base class `BaseSQLExtractor`\n",
    "# The default extractor is `LiteLLMExtractor`, which allows specifying models from multiple providers\n",
    "\n",
    "create_extractor?"
   ]
  },
  {
   "cell_type": "code",
   "execution_count": 5,
   "id": "1a45234e",
   "metadata": {},
   "outputs": [],
   "source": [
    "# Create extractor for the OpenAI GPT-4.1-mini model (expects env variable OPENAI_API_KEY to be set)\n",
    "extractor = create_extractor(model=\"openai/gpt-4.1-mini\")"
   ]
  },
  {
   "cell_type": "code",
   "execution_count": 6,
   "id": "bc219625",
   "metadata": {},
   "outputs": [
    {
     "name": "stdout",
     "output_type": "stream",
     "text": [
      "SQLProfile(dependencies={'orders': ['user_id'], 'users': ['id', 'status']}, outputs={'transactions.user_order_summary': ['*']})\n"
     ]
    }
   ],
   "source": [
    "# Extract dependencies and outputs from a SQL query\n",
    "sql_query = \"\"\"\n",
    "WITH user_orders AS (\n",
    "    SELECT o.user_id, COUNT(*) AS order_count\n",
    "    FROM orders o\n",
    "    JOIN users u ON o.user_id = u.id\n",
    "    WHERE u.status = 'active'\n",
    "    GROUP BY o.user_id\n",
    ")\n",
    "\n",
    "CREATE TABLE transactions.user_order_summary AS\n",
    "SELECT * FROM user_orders;\n",
    "\"\"\"\n",
    "sql_profile = extractor.extract_from_query(sql_query)\n",
    "\n",
    "# Print the extracted dependencies and outputs\n",
    "print(sql_profile)"
   ]
  },
  {
   "cell_type": "code",
   "execution_count": 7,
   "id": "9dc9fc13",
   "metadata": {},
   "outputs": [
    {
     "name": "stdout",
     "output_type": "stream",
     "text": [
      "Dependencies: {'orders': ['user_id'], 'users': ['id', 'status']}\n",
      "Outputs: {'transactions.user_order_summary': ['*']}\n",
      "As dictionary: {'dependencies': {'orders': ['user_id'], 'users': ['id', 'status']}, 'outputs': {'transactions.user_order_summary': ['*']}}\n",
      "As DataFrame:\n",
      "         type        schema               table   column\n",
      "0  dependency          None              orders  user_id\n",
      "1  dependency          None               users       id\n",
      "2  dependency          None               users   status\n",
      "3     outcome  transactions  user_order_summary        *\n"
     ]
    }
   ],
   "source": [
    "# Extracted result object contains the dependencies and outputs\n",
    "print(\"Dependencies:\", sql_profile.dependencies)\n",
    "print(\"Outputs:\", sql_profile.outputs)\n",
    "\n",
    "# Convert the result to different formats\n",
    "print(\"As dictionary:\", sql_profile.to_dict())\n",
    "\n",
    "print(\"As DataFrame:\")\n",
    "print(sql_profile.to_dataframe())"
   ]
  },
  {
   "cell_type": "markdown",
   "id": "1d391c99",
   "metadata": {},
   "source": [
    "## Extracting SQL profile from a file"
   ]
  },
  {
   "cell_type": "code",
   "execution_count": 8,
   "id": "a9f58e11",
   "metadata": {},
   "outputs": [
    {
     "name": "stdout",
     "output_type": "stream",
     "text": [
      "\u001b[0;31mSignature:\u001b[0m \u001b[0mextractor\u001b[0m\u001b[0;34m.\u001b[0m\u001b[0mextract_from_file\u001b[0m\u001b[0;34m(\u001b[0m\u001b[0mfile_path\u001b[0m\u001b[0;34m:\u001b[0m \u001b[0mstr\u001b[0m \u001b[0;34m|\u001b[0m \u001b[0mpathlib\u001b[0m\u001b[0;34m.\u001b[0m\u001b[0m_local\u001b[0m\u001b[0;34m.\u001b[0m\u001b[0mPath\u001b[0m\u001b[0;34m)\u001b[0m \u001b[0;34m->\u001b[0m \u001b[0msqldeps\u001b[0m\u001b[0;34m.\u001b[0m\u001b[0mmodels\u001b[0m\u001b[0;34m.\u001b[0m\u001b[0mSQLProfile\u001b[0m\u001b[0;34m\u001b[0m\u001b[0;34m\u001b[0m\u001b[0m\n",
      "\u001b[0;31mDocstring:\u001b[0m\n",
      "Extract dependencies from a SQL file.\n",
      "\n",
      "Args:\n",
      "    file_path: Path to SQL file\n",
      "\n",
      "Returns:\n",
      "    SQLProfile object containing dependencies and outputs\n",
      "\n",
      "Raises:\n",
      "    FileNotFoundError: If file does not exist\n",
      "\u001b[0;31mFile:\u001b[0m      ~/Projects/sqldeps/sqldeps/llm_parsers/base.py\n",
      "\u001b[0;31mType:\u001b[0m      method"
     ]
    }
   ],
   "source": [
    "extractor.extract_from_file?"
   ]
  },
  {
   "cell_type": "code",
   "execution_count": 9,
   "id": "33247d8d",
   "metadata": {},
   "outputs": [
    {
     "data": {
      "text/plain": [
       "SQLProfile(dependencies={'orders': ['user_id'], 'users': ['id', 'status']}, outputs={'order_summary': [], 'transactions.user_order_summary': ['*']})"
      ]
     },
     "execution_count": 9,
     "metadata": {},
     "output_type": "execute_result"
    }
   ],
   "source": [
    "extractor.extract_from_file(\"data/examples/example.sql\")"
   ]
  },
  {
   "cell_type": "markdown",
   "id": "84c20054",
   "metadata": {},
   "source": [
    "## Extracting SQL profile from a folder"
   ]
  },
  {
   "cell_type": "code",
   "execution_count": 10,
   "id": "95f5a2b7",
   "metadata": {},
   "outputs": [
    {
     "name": "stdout",
     "output_type": "stream",
     "text": [
      "\u001b[0;31mSignature:\u001b[0m\n",
      "\u001b[0mextractor\u001b[0m\u001b[0;34m.\u001b[0m\u001b[0mextract_from_folder\u001b[0m\u001b[0;34m(\u001b[0m\u001b[0;34m\u001b[0m\n",
      "\u001b[0;34m\u001b[0m    \u001b[0mfolder_path\u001b[0m\u001b[0;34m:\u001b[0m \u001b[0mstr\u001b[0m \u001b[0;34m|\u001b[0m \u001b[0mpathlib\u001b[0m\u001b[0;34m.\u001b[0m\u001b[0m_local\u001b[0m\u001b[0;34m.\u001b[0m\u001b[0mPath\u001b[0m\u001b[0;34m,\u001b[0m\u001b[0;34m\u001b[0m\n",
      "\u001b[0;34m\u001b[0m    \u001b[0mrecursive\u001b[0m\u001b[0;34m:\u001b[0m \u001b[0mbool\u001b[0m \u001b[0;34m=\u001b[0m \u001b[0;32mFalse\u001b[0m\u001b[0;34m,\u001b[0m\u001b[0;34m\u001b[0m\n",
      "\u001b[0;34m\u001b[0m    \u001b[0mmerge_sql_profiles\u001b[0m\u001b[0;34m:\u001b[0m \u001b[0mbool\u001b[0m \u001b[0;34m=\u001b[0m \u001b[0;32mFalse\u001b[0m\u001b[0;34m,\u001b[0m\u001b[0;34m\u001b[0m\n",
      "\u001b[0;34m\u001b[0m    \u001b[0mvalid_extensions\u001b[0m\u001b[0;34m:\u001b[0m \u001b[0mset\u001b[0m\u001b[0;34m[\u001b[0m\u001b[0mstr\u001b[0m\u001b[0;34m]\u001b[0m \u001b[0;34m|\u001b[0m \u001b[0;32mNone\u001b[0m \u001b[0;34m=\u001b[0m \u001b[0;32mNone\u001b[0m\u001b[0;34m,\u001b[0m\u001b[0;34m\u001b[0m\n",
      "\u001b[0;34m\u001b[0m    \u001b[0mn_workers\u001b[0m\u001b[0;34m:\u001b[0m \u001b[0mint\u001b[0m \u001b[0;34m=\u001b[0m \u001b[0;36m1\u001b[0m\u001b[0;34m,\u001b[0m\u001b[0;34m\u001b[0m\n",
      "\u001b[0;34m\u001b[0m    \u001b[0mrpm\u001b[0m\u001b[0;34m:\u001b[0m \u001b[0mint\u001b[0m \u001b[0;34m=\u001b[0m \u001b[0;36m100\u001b[0m\u001b[0;34m,\u001b[0m\u001b[0;34m\u001b[0m\n",
      "\u001b[0;34m\u001b[0m    \u001b[0muse_cache\u001b[0m\u001b[0;34m:\u001b[0m \u001b[0mbool\u001b[0m \u001b[0;34m=\u001b[0m \u001b[0;32mTrue\u001b[0m\u001b[0;34m,\u001b[0m\u001b[0;34m\u001b[0m\n",
      "\u001b[0;34m\u001b[0m    \u001b[0mclear_cache\u001b[0m\u001b[0;34m:\u001b[0m \u001b[0mbool\u001b[0m \u001b[0;34m=\u001b[0m \u001b[0;32mFalse\u001b[0m\u001b[0;34m,\u001b[0m\u001b[0;34m\u001b[0m\n",
      "\u001b[0;34m\u001b[0m\u001b[0;34m)\u001b[0m \u001b[0;34m->\u001b[0m \u001b[0msqldeps\u001b[0m\u001b[0;34m.\u001b[0m\u001b[0mmodels\u001b[0m\u001b[0;34m.\u001b[0m\u001b[0mSQLProfile\u001b[0m \u001b[0;34m|\u001b[0m \u001b[0mdict\u001b[0m\u001b[0;34m[\u001b[0m\u001b[0mstr\u001b[0m\u001b[0;34m,\u001b[0m \u001b[0msqldeps\u001b[0m\u001b[0;34m.\u001b[0m\u001b[0mmodels\u001b[0m\u001b[0;34m.\u001b[0m\u001b[0mSQLProfile\u001b[0m\u001b[0;34m]\u001b[0m\u001b[0;34m\u001b[0m\u001b[0;34m\u001b[0m\u001b[0m\n",
      "\u001b[0;31mDocstring:\u001b[0m\n",
      "Extract and merge dependencies from all SQL files in a folder.\n",
      "\n",
      "Args:\n",
      "    folder_path: Path to folder containing SQL files\n",
      "    recursive: Whether to search recursively\n",
      "    merge_sql_profiles: Whether to merge all results into a single SQLProfile\n",
      "    valid_extensions: Set of valid file extensions to process\n",
      "    n_workers: Number of worker processes for parallel execution\n",
      "    rpm: Maximum requests per minute for API rate limiting\n",
      "    use_cache: Whether to use cached results\n",
      "    clear_cache: Whether to clear the cache after processing\n",
      "\n",
      "Returns:\n",
      "    SQLProfile object or dictionary mapping file paths to SQLProfile objects\n",
      "\n",
      "Raises:\n",
      "    ValueError: If no dependencies could be extracted\n",
      "\u001b[0;31mFile:\u001b[0m      ~/Projects/sqldeps/sqldeps/llm_parsers/base.py\n",
      "\u001b[0;31mType:\u001b[0m      method"
     ]
    }
   ],
   "source": [
    "extractor.extract_from_folder?"
   ]
  },
  {
   "cell_type": "code",
   "execution_count": 11,
   "id": "50ef7ab1",
   "metadata": {},
   "outputs": [
    {
     "name": "stderr",
     "output_type": "stream",
     "text": [
      "\u001b[32m2025-05-06 17:55:02.431\u001b[0m | \u001b[1mINFO    \u001b[0m | \u001b[36msqldeps.llm_parsers.base\u001b[0m:\u001b[36m_process_files_sequentially\u001b[0m:\u001b[36m180\u001b[0m - \u001b[1mCache usage: enabled\u001b[0m\n",
      "\u001b[32m2025-05-06 17:55:02.432\u001b[0m | \u001b[1mINFO    \u001b[0m | \u001b[36msqldeps.llm_parsers.base\u001b[0m:\u001b[36m_process_files_sequentially\u001b[0m:\u001b[36m181\u001b[0m - \u001b[1mProcessing 2 SQL files sequentially with RPM: 100\u001b[0m\n",
      "Processing SQL files:   0%|          | 0/2 [00:00<?, ?it/s]\u001b[32m2025-05-06 17:55:02.434\u001b[0m | \u001b[1mINFO    \u001b[0m | \u001b[36msqldeps.cache\u001b[0m:\u001b[36mload_from_cache\u001b[0m:\u001b[36m99\u001b[0m - \u001b[1mLoading from cache: data/examples/folders_with_sql_files/example1.sql\u001b[0m\n",
      "\u001b[32m2025-05-06 17:55:02.434\u001b[0m | \u001b[1mINFO    \u001b[0m | \u001b[36msqldeps.cache\u001b[0m:\u001b[36mload_from_cache\u001b[0m:\u001b[36m99\u001b[0m - \u001b[1mLoading from cache: data/examples/folders_with_sql_files/example2.sql\u001b[0m\n",
      "Processing SQL files: 100%|██████████| 2/2 [00:00<00:00, 1973.33it/s]\n"
     ]
    },
    {
     "data": {
      "text/plain": [
       "{'data/examples/folders_with_sql_files/example1.sql': SQLProfile(dependencies={'users': ['id', 'name']}, outputs={}),\n",
       " 'data/examples/folders_with_sql_files/example2.sql': SQLProfile(dependencies={'users': ['*']}, outputs={})}"
      ]
     },
     "execution_count": 11,
     "metadata": {},
     "output_type": "execute_result"
    }
   ],
   "source": [
    "# Extract from folder with default parameters\n",
    "extractor.extract_from_folder(folder_path = \"data/examples/folders_with_sql_files\")"
   ]
  },
  {
   "cell_type": "code",
   "execution_count": 12,
   "id": "16c5b450",
   "metadata": {},
   "outputs": [
    {
     "name": "stderr",
     "output_type": "stream",
     "text": [
      "\u001b[32m2025-05-06 17:55:02.441\u001b[0m | \u001b[1mINFO    \u001b[0m | \u001b[36msqldeps.llm_parsers.base\u001b[0m:\u001b[36m_process_files_sequentially\u001b[0m:\u001b[36m180\u001b[0m - \u001b[1mCache usage: enabled\u001b[0m\n",
      "\u001b[32m2025-05-06 17:55:02.442\u001b[0m | \u001b[1mINFO    \u001b[0m | \u001b[36msqldeps.llm_parsers.base\u001b[0m:\u001b[36m_process_files_sequentially\u001b[0m:\u001b[36m181\u001b[0m - \u001b[1mProcessing 2 SQL files sequentially with RPM: 100\u001b[0m\n",
      "Processing SQL files:   0%|          | 0/2 [00:00<?, ?it/s]\u001b[32m2025-05-06 17:55:02.444\u001b[0m | \u001b[1mINFO    \u001b[0m | \u001b[36msqldeps.cache\u001b[0m:\u001b[36mload_from_cache\u001b[0m:\u001b[36m99\u001b[0m - \u001b[1mLoading from cache: data/examples/folders_with_sql_files/example1.sql\u001b[0m\n",
      "\u001b[32m2025-05-06 17:55:02.444\u001b[0m | \u001b[1mINFO    \u001b[0m | \u001b[36msqldeps.cache\u001b[0m:\u001b[36mload_from_cache\u001b[0m:\u001b[36m99\u001b[0m - \u001b[1mLoading from cache: data/examples/folders_with_sql_files/example2.sql\u001b[0m\n",
      "Processing SQL files: 100%|██████████| 2/2 [00:00<00:00, 1301.77it/s]\n"
     ]
    },
    {
     "data": {
      "text/plain": [
       "SQLProfile(dependencies={'users': ['*']}, outputs={})"
      ]
     },
     "execution_count": 12,
     "metadata": {},
     "output_type": "execute_result"
    }
   ],
   "source": [
    "# Extract from folder with default parameters\n",
    "extractor.extract_from_folder(\n",
    "    folder_path = \"data/examples/folders_with_sql_files\",\n",
    "    merge_sql_profiles = True\n",
    ")"
   ]
  },
  {
   "cell_type": "code",
   "execution_count": 13,
   "id": "f4abb46e",
   "metadata": {},
   "outputs": [
    {
     "name": "stderr",
     "output_type": "stream",
     "text": [
      "\u001b[32m2025-05-06 17:55:02.454\u001b[0m | \u001b[1mINFO    \u001b[0m | \u001b[36msqldeps.cache\u001b[0m:\u001b[36mcleanup_cache\u001b[0m:\u001b[36m126\u001b[0m - \u001b[1mRemoved cache directory: .sqldeps_cache\u001b[0m\n"
     ]
    },
    {
     "data": {
      "text/plain": [
       "True"
      ]
     },
     "execution_count": 13,
     "metadata": {},
     "output_type": "execute_result"
    }
   ],
   "source": [
    "# Clean up cache\n",
    "from sqldeps.cache import cleanup_cache\n",
    "\n",
    "cleanup_cache()"
   ]
  },
  {
   "cell_type": "code",
   "execution_count": 14,
   "id": "eee25b12",
   "metadata": {},
   "outputs": [
    {
     "name": "stderr",
     "output_type": "stream",
     "text": [
      "\u001b[32m2025-05-06 17:55:02.472\u001b[0m | \u001b[1mINFO    \u001b[0m | \u001b[36msqldeps.parallel\u001b[0m:\u001b[36mprocess_files_in_parallel\u001b[0m:\u001b[36m168\u001b[0m - \u001b[1mProcessing 5 SQL files\u001b[0m\n",
      "\u001b[32m2025-05-06 17:55:02.473\u001b[0m | \u001b[1mINFO    \u001b[0m | \u001b[36msqldeps.parallel\u001b[0m:\u001b[36mprocess_files_in_parallel\u001b[0m:\u001b[36m169\u001b[0m - \u001b[1mUsing 20 workers with global rate limit of 100 requests per minute\u001b[0m\n",
      "\u001b[32m2025-05-06 17:55:02.473\u001b[0m | \u001b[1mINFO    \u001b[0m | \u001b[36msqldeps.parallel\u001b[0m:\u001b[36mprocess_files_in_parallel\u001b[0m:\u001b[36m172\u001b[0m - \u001b[1mCache usage: enabled\u001b[0m\n",
      "\u001b[32m2025-05-06 17:55:02.536\u001b[0m | \u001b[34m\u001b[1mDEBUG   \u001b[0m | \u001b[36msqldeps.parallel\u001b[0m:\u001b[36mextract_with_rate_limit\u001b[0m:\u001b[36m85\u001b[0m - \u001b[34m\u001b[1mExtracting from file: data/examples/folders_with_sql_files/example2.sql\u001b[0m\n",
      "\u001b[32m2025-05-06 17:55:02.537\u001b[0m | \u001b[34m\u001b[1mDEBUG   \u001b[0m | \u001b[36msqldeps.parallel\u001b[0m:\u001b[36mextract_with_rate_limit\u001b[0m:\u001b[36m85\u001b[0m - \u001b[34m\u001b[1mExtracting from file: data/examples/folders_with_sql_files/example1.sql\u001b[0m\n",
      "\u001b[32m2025-05-06 17:55:02.541\u001b[0m | \u001b[34m\u001b[1mDEBUG   \u001b[0m | \u001b[36msqldeps.parallel\u001b[0m:\u001b[36mextract_with_rate_limit\u001b[0m:\u001b[36m85\u001b[0m - \u001b[34m\u001b[1mExtracting from file: data/examples/folders_with_sql_files/subfolder1/example3.sql\u001b[0m\n",
      "\u001b[32m2025-05-06 17:55:02.542\u001b[0m | \u001b[34m\u001b[1mDEBUG   \u001b[0m | \u001b[36msqldeps.parallel\u001b[0m:\u001b[36mextract_with_rate_limit\u001b[0m:\u001b[36m85\u001b[0m - \u001b[34m\u001b[1mExtracting from file: data/examples/folders_with_sql_files/subfolder2/subfolder2_1/example5.sql\u001b[0m\n",
      "\u001b[32m2025-05-06 17:55:02.544\u001b[0m | \u001b[34m\u001b[1mDEBUG   \u001b[0m | \u001b[36msqldeps.parallel\u001b[0m:\u001b[36mextract_with_rate_limit\u001b[0m:\u001b[36m85\u001b[0m - \u001b[34m\u001b[1mExtracting from file: data/examples/folders_with_sql_files/subfolder2/subfolder2_1/example4.sql\u001b[0m\n",
      "\u001b[32m2025-05-06 17:55:03.482\u001b[0m | \u001b[1mINFO    \u001b[0m | \u001b[36msqldeps.parallel\u001b[0m:\u001b[36mprocess_files_in_parallel\u001b[0m:\u001b[36m208\u001b[0m - \u001b[1mCompleted batch 2/5 with 1 results\u001b[0m\n",
      "\u001b[32m2025-05-06 17:55:03.961\u001b[0m | \u001b[1mINFO    \u001b[0m | \u001b[36msqldeps.parallel\u001b[0m:\u001b[36mprocess_files_in_parallel\u001b[0m:\u001b[36m208\u001b[0m - \u001b[1mCompleted batch 3/5 with 1 results\u001b[0m\n",
      "\u001b[32m2025-05-06 17:55:03.963\u001b[0m | \u001b[1mINFO    \u001b[0m | \u001b[36msqldeps.parallel\u001b[0m:\u001b[36mprocess_files_in_parallel\u001b[0m:\u001b[36m208\u001b[0m - \u001b[1mCompleted batch 4/5 with 1 results\u001b[0m\n",
      "\u001b[32m2025-05-06 17:55:04.500\u001b[0m | \u001b[1mINFO    \u001b[0m | \u001b[36msqldeps.parallel\u001b[0m:\u001b[36mprocess_files_in_parallel\u001b[0m:\u001b[36m208\u001b[0m - \u001b[1mCompleted batch 5/5 with 1 results\u001b[0m\n",
      "\u001b[32m2025-05-06 17:55:05.190\u001b[0m | \u001b[1mINFO    \u001b[0m | \u001b[36msqldeps.parallel\u001b[0m:\u001b[36mprocess_files_in_parallel\u001b[0m:\u001b[36m208\u001b[0m - \u001b[1mCompleted batch 1/5 with 1 results\u001b[0m\n"
     ]
    },
    {
     "data": {
      "text/plain": [
       "{'data/examples/folders_with_sql_files/example2.sql': SQLProfile(dependencies={'users': ['*']}, outputs={}),\n",
       " 'data/examples/folders_with_sql_files/subfolder1/example3.sql': SQLProfile(dependencies={'my_db.users': ['id', 'name'], 'orders': ['order_id', 'user_id']}, outputs={}),\n",
       " 'data/examples/folders_with_sql_files/subfolder2/subfolder2_1/example5.sql': SQLProfile(dependencies={'orders': ['user_id'], 'users': ['id', 'name']}, outputs={}),\n",
       " 'data/examples/folders_with_sql_files/subfolder2/subfolder2_1/example4.sql': SQLProfile(dependencies={'my_db.users': ['email', 'id', 'name', 'status'], 'orders': ['order_date', 'order_id', 'order_type', 'priority_level', 'shipping_status', 'total_amount', 'user_id']}, outputs={}),\n",
       " 'data/examples/folders_with_sql_files/example1.sql': SQLProfile(dependencies={'users': ['id', 'name']}, outputs={})}"
      ]
     },
     "execution_count": 14,
     "metadata": {},
     "output_type": "execute_result"
    }
   ],
   "source": [
    "# Extract from folder recursively with multiprocessing\n",
    "extractor.extract_from_folder(\n",
    "    folder_path = \"data/examples/folders_with_sql_files/\",\n",
    "    recursive = True,\n",
    "    merge_sql_profiles = False,\n",
    "    valid_extensions = None,\n",
    "    n_workers = -1,   # use all available cores\n",
    "    rpm = 100,        # Max 100 requests per minute\n",
    "    use_cache = True,\n",
    "    clear_cache = False,\n",
    ")"
   ]
  },
  {
   "cell_type": "code",
   "execution_count": 15,
   "id": "321e3af5",
   "metadata": {},
   "outputs": [
    {
     "name": "stderr",
     "output_type": "stream",
     "text": [
      "\u001b[32m2025-05-06 17:55:05.238\u001b[0m | \u001b[1mINFO    \u001b[0m | \u001b[36msqldeps.parallel\u001b[0m:\u001b[36mprocess_files_in_parallel\u001b[0m:\u001b[36m168\u001b[0m - \u001b[1mProcessing 5 SQL files\u001b[0m\n",
      "\u001b[32m2025-05-06 17:55:05.238\u001b[0m | \u001b[1mINFO    \u001b[0m | \u001b[36msqldeps.parallel\u001b[0m:\u001b[36mprocess_files_in_parallel\u001b[0m:\u001b[36m169\u001b[0m - \u001b[1mUsing 20 workers with global rate limit of 100 requests per minute\u001b[0m\n",
      "\u001b[32m2025-05-06 17:55:05.239\u001b[0m | \u001b[1mINFO    \u001b[0m | \u001b[36msqldeps.parallel\u001b[0m:\u001b[36mprocess_files_in_parallel\u001b[0m:\u001b[36m172\u001b[0m - \u001b[1mCache usage: enabled\u001b[0m\n",
      "\u001b[32m2025-05-06 17:55:05.303\u001b[0m | \u001b[1mINFO    \u001b[0m | \u001b[36msqldeps.cache\u001b[0m:\u001b[36mload_from_cache\u001b[0m:\u001b[36m99\u001b[0m - \u001b[1mLoading from cache: data/examples/folders_with_sql_files/example2.sql\u001b[0m\n",
      "\u001b[32m2025-05-06 17:55:05.304\u001b[0m | \u001b[1mINFO    \u001b[0m | \u001b[36msqldeps.cache\u001b[0m:\u001b[36mload_from_cache\u001b[0m:\u001b[36m99\u001b[0m - \u001b[1mLoading from cache: data/examples/folders_with_sql_files/subfolder1/example3.sql\u001b[0m\n",
      "\u001b[32m2025-05-06 17:55:05.308\u001b[0m | \u001b[1mINFO    \u001b[0m | \u001b[36msqldeps.parallel\u001b[0m:\u001b[36mprocess_files_in_parallel\u001b[0m:\u001b[36m208\u001b[0m - \u001b[1mCompleted batch 3/5 with 1 results\u001b[0m\n",
      "\u001b[32m2025-05-06 17:55:05.305\u001b[0m | \u001b[1mINFO    \u001b[0m | \u001b[36msqldeps.cache\u001b[0m:\u001b[36mload_from_cache\u001b[0m:\u001b[36m99\u001b[0m - \u001b[1mLoading from cache: data/examples/folders_with_sql_files/example1.sql\u001b[0m\n",
      "\u001b[32m2025-05-06 17:55:05.313\u001b[0m | \u001b[1mINFO    \u001b[0m | \u001b[36msqldeps.parallel\u001b[0m:\u001b[36mprocess_files_in_parallel\u001b[0m:\u001b[36m208\u001b[0m - \u001b[1mCompleted batch 2/5 with 1 results\u001b[0m\n",
      "\u001b[32m2025-05-06 17:55:05.305\u001b[0m | \u001b[1mINFO    \u001b[0m | \u001b[36msqldeps.cache\u001b[0m:\u001b[36mload_from_cache\u001b[0m:\u001b[36m99\u001b[0m - \u001b[1mLoading from cache: data/examples/folders_with_sql_files/subfolder2/subfolder2_1/example5.sql\u001b[0m\n",
      "\u001b[32m2025-05-06 17:55:05.315\u001b[0m | \u001b[1mINFO    \u001b[0m | \u001b[36msqldeps.parallel\u001b[0m:\u001b[36mprocess_files_in_parallel\u001b[0m:\u001b[36m208\u001b[0m - \u001b[1mCompleted batch 1/5 with 1 results\u001b[0m\n",
      "\u001b[32m2025-05-06 17:55:05.306\u001b[0m | \u001b[1mINFO    \u001b[0m | \u001b[36msqldeps.cache\u001b[0m:\u001b[36mload_from_cache\u001b[0m:\u001b[36m99\u001b[0m - \u001b[1mLoading from cache: data/examples/folders_with_sql_files/subfolder2/subfolder2_1/example4.sql\u001b[0m\n",
      "\u001b[32m2025-05-06 17:55:05.316\u001b[0m | \u001b[1mINFO    \u001b[0m | \u001b[36msqldeps.parallel\u001b[0m:\u001b[36mprocess_files_in_parallel\u001b[0m:\u001b[36m208\u001b[0m - \u001b[1mCompleted batch 4/5 with 1 results\u001b[0m\n",
      "\u001b[32m2025-05-06 17:55:05.317\u001b[0m | \u001b[1mINFO    \u001b[0m | \u001b[36msqldeps.parallel\u001b[0m:\u001b[36mprocess_files_in_parallel\u001b[0m:\u001b[36m208\u001b[0m - \u001b[1mCompleted batch 5/5 with 1 results\u001b[0m\n"
     ]
    },
    {
     "data": {
      "text/plain": [
       "{'data/examples/folders_with_sql_files/subfolder1/example3.sql': SQLProfile(dependencies={'my_db.users': ['id', 'name'], 'orders': ['order_id', 'user_id']}, outputs={}),\n",
       " 'data/examples/folders_with_sql_files/example2.sql': SQLProfile(dependencies={'users': ['*']}, outputs={}),\n",
       " 'data/examples/folders_with_sql_files/example1.sql': SQLProfile(dependencies={'users': ['id', 'name']}, outputs={}),\n",
       " 'data/examples/folders_with_sql_files/subfolder2/subfolder2_1/example5.sql': SQLProfile(dependencies={'orders': ['user_id'], 'users': ['id', 'name']}, outputs={}),\n",
       " 'data/examples/folders_with_sql_files/subfolder2/subfolder2_1/example4.sql': SQLProfile(dependencies={'my_db.users': ['email', 'id', 'name', 'status'], 'orders': ['order_date', 'order_id', 'order_type', 'priority_level', 'shipping_status', 'total_amount', 'user_id']}, outputs={})}"
      ]
     },
     "execution_count": 15,
     "metadata": {},
     "output_type": "execute_result"
    }
   ],
   "source": [
    "# Extract from folder recursively with multiprocessing with cached files\n",
    "extractor.extract_from_folder(\n",
    "    folder_path = \"data/examples/folders_with_sql_files/\",\n",
    "    recursive = True,\n",
    "    merge_sql_profiles = False,\n",
    "    valid_extensions = None,\n",
    "    n_workers = -1,   # use all available cores\n",
    "    rpm = 100,        # Max 100 requests per minute\n",
    "    use_cache = True,\n",
    "    clear_cache = False,\n",
    ")"
   ]
  },
  {
   "cell_type": "code",
   "execution_count": 16,
   "id": "e085b527",
   "metadata": {},
   "outputs": [
    {
     "name": "stderr",
     "output_type": "stream",
     "text": [
      "\u001b[32m2025-05-06 17:55:05.359\u001b[0m | \u001b[1mINFO    \u001b[0m | \u001b[36msqldeps.cache\u001b[0m:\u001b[36mcleanup_cache\u001b[0m:\u001b[36m126\u001b[0m - \u001b[1mRemoved cache directory: .sqldeps_cache\u001b[0m\n"
     ]
    },
    {
     "data": {
      "text/plain": [
       "True"
      ]
     },
     "execution_count": 16,
     "metadata": {},
     "output_type": "execute_result"
    }
   ],
   "source": [
    "# Clean up cache again\n",
    "cleanup_cache()"
   ]
  },
  {
   "cell_type": "code",
   "execution_count": 17,
   "id": "4170f606",
   "metadata": {},
   "outputs": [
    {
     "name": "stderr",
     "output_type": "stream",
     "text": [
      "\u001b[32m2025-05-06 17:55:05.369\u001b[0m | \u001b[1mINFO    \u001b[0m | \u001b[36msqldeps.parallel\u001b[0m:\u001b[36mprocess_files_in_parallel\u001b[0m:\u001b[36m168\u001b[0m - \u001b[1mProcessing 5 SQL files\u001b[0m\n",
      "\u001b[32m2025-05-06 17:55:05.370\u001b[0m | \u001b[1mINFO    \u001b[0m | \u001b[36msqldeps.parallel\u001b[0m:\u001b[36mprocess_files_in_parallel\u001b[0m:\u001b[36m169\u001b[0m - \u001b[1mUsing 20 workers with global rate limit of 3 requests per minute\u001b[0m\n",
      "\u001b[32m2025-05-06 17:55:05.370\u001b[0m | \u001b[1mINFO    \u001b[0m | \u001b[36msqldeps.parallel\u001b[0m:\u001b[36mprocess_files_in_parallel\u001b[0m:\u001b[36m172\u001b[0m - \u001b[1mCache usage: enabled\u001b[0m\n",
      "\u001b[32m2025-05-06 17:55:05.449\u001b[0m | \u001b[34m\u001b[1mDEBUG   \u001b[0m | \u001b[36msqldeps.parallel\u001b[0m:\u001b[36mextract_with_rate_limit\u001b[0m:\u001b[36m85\u001b[0m - \u001b[34m\u001b[1mExtracting from file: data/examples/folders_with_sql_files/example2.sql\u001b[0m\n",
      "\u001b[32m2025-05-06 17:55:05.452\u001b[0m | \u001b[34m\u001b[1mDEBUG   \u001b[0m | \u001b[36msqldeps.parallel\u001b[0m:\u001b[36mextract_with_rate_limit\u001b[0m:\u001b[36m85\u001b[0m - \u001b[34m\u001b[1mExtracting from file: data/examples/folders_with_sql_files/example1.sql\u001b[0m\n",
      "\u001b[32m2025-05-06 17:55:05.453\u001b[0m | \u001b[34m\u001b[1mDEBUG   \u001b[0m | \u001b[36msqldeps.parallel\u001b[0m:\u001b[36mextract_with_rate_limit\u001b[0m:\u001b[36m85\u001b[0m - \u001b[34m\u001b[1mExtracting from file: data/examples/folders_with_sql_files/subfolder2/subfolder2_1/example4.sql\u001b[0m\n",
      "\u001b[32m2025-05-06 17:55:05.455\u001b[0m | \u001b[34m\u001b[1mDEBUG   \u001b[0m | \u001b[36msqldeps.rate_limiter\u001b[0m:\u001b[36mwait_if_needed\u001b[0m:\u001b[36m110\u001b[0m - \u001b[34m\u001b[1mRate limit reached. Waiting 59.99 seconds\u001b[0m\n",
      "\u001b[32m2025-05-06 17:55:06.451\u001b[0m | \u001b[1mINFO    \u001b[0m | \u001b[36msqldeps.parallel\u001b[0m:\u001b[36mprocess_files_in_parallel\u001b[0m:\u001b[36m208\u001b[0m - \u001b[1mCompleted batch 1/5 with 1 results\u001b[0m\n",
      "\u001b[32m2025-05-06 17:55:07.238\u001b[0m | \u001b[1mINFO    \u001b[0m | \u001b[36msqldeps.parallel\u001b[0m:\u001b[36mprocess_files_in_parallel\u001b[0m:\u001b[36m208\u001b[0m - \u001b[1mCompleted batch 5/5 with 1 results\u001b[0m\n",
      "\u001b[32m2025-05-06 17:55:08.157\u001b[0m | \u001b[1mINFO    \u001b[0m | \u001b[36msqldeps.parallel\u001b[0m:\u001b[36mprocess_files_in_parallel\u001b[0m:\u001b[36m208\u001b[0m - \u001b[1mCompleted batch 2/5 with 1 results\u001b[0m\n",
      "\u001b[32m2025-05-06 17:56:05.454\u001b[0m | \u001b[34m\u001b[1mDEBUG   \u001b[0m | \u001b[36msqldeps.parallel\u001b[0m:\u001b[36mextract_with_rate_limit\u001b[0m:\u001b[36m85\u001b[0m - \u001b[34m\u001b[1mExtracting from file: data/examples/folders_with_sql_files/subfolder2/subfolder2_1/example5.sql\u001b[0m\n",
      "\u001b[32m2025-05-06 17:56:05.456\u001b[0m | \u001b[34m\u001b[1mDEBUG   \u001b[0m | \u001b[36msqldeps.parallel\u001b[0m:\u001b[36mextract_with_rate_limit\u001b[0m:\u001b[36m85\u001b[0m - \u001b[34m\u001b[1mExtracting from file: data/examples/folders_with_sql_files/subfolder1/example3.sql\u001b[0m\n",
      "\u001b[32m2025-05-06 17:56:06.733\u001b[0m | \u001b[1mINFO    \u001b[0m | \u001b[36msqldeps.parallel\u001b[0m:\u001b[36mprocess_files_in_parallel\u001b[0m:\u001b[36m208\u001b[0m - \u001b[1mCompleted batch 4/5 with 1 results\u001b[0m\n",
      "\u001b[32m2025-05-06 17:56:06.936\u001b[0m | \u001b[1mINFO    \u001b[0m | \u001b[36msqldeps.parallel\u001b[0m:\u001b[36mprocess_files_in_parallel\u001b[0m:\u001b[36m208\u001b[0m - \u001b[1mCompleted batch 3/5 with 1 results\u001b[0m\n"
     ]
    },
    {
     "data": {
      "text/plain": [
       "{'data/examples/folders_with_sql_files/example1.sql': SQLProfile(dependencies={'users': ['id', 'name']}, outputs={}),\n",
       " 'data/examples/folders_with_sql_files/subfolder2/subfolder2_1/example4.sql': SQLProfile(dependencies={'my_db.users': ['email', 'id', 'name', 'status'], 'orders': ['order_date', 'order_id', 'order_type', 'priority_level', 'shipping_status', 'total_amount', 'user_id']}, outputs={}),\n",
       " 'data/examples/folders_with_sql_files/example2.sql': SQLProfile(dependencies={'users': ['*']}, outputs={}),\n",
       " 'data/examples/folders_with_sql_files/subfolder2/subfolder2_1/example5.sql': SQLProfile(dependencies={'orders': ['user_id'], 'users': ['id', 'name']}, outputs={}),\n",
       " 'data/examples/folders_with_sql_files/subfolder1/example3.sql': SQLProfile(dependencies={'my_db.users': ['id', 'name'], 'orders': ['order_id', 'user_id']}, outputs={})}"
      ]
     },
     "execution_count": 17,
     "metadata": {},
     "output_type": "execute_result"
    }
   ],
   "source": [
    "# Extract from folder recursively with multiprocessing with cached files with max 3 requests per minute\n",
    "extractor.extract_from_folder(\n",
    "    folder_path = \"data/examples/folders_with_sql_files/\",\n",
    "    recursive = True,\n",
    "    merge_sql_profiles = False,\n",
    "    valid_extensions = None,\n",
    "    n_workers = -1,   # use all available cores\n",
    "    rpm = 3,        # Max 3 requests per minute\n",
    "    use_cache = True,\n",
    "    clear_cache = False,\n",
    ")"
   ]
  },
  {
   "cell_type": "markdown",
   "id": "66aaa05c",
   "metadata": {},
   "source": [
    "### SQL Profile visualization"
   ]
  },
  {
   "cell_type": "code",
   "execution_count": 18,
   "id": "0c646d6b",
   "metadata": {},
   "outputs": [],
   "source": [
    "from sqldeps.visualization import visualize_sql_dependencies"
   ]
  },
  {
   "cell_type": "code",
   "execution_count": 19,
   "id": "0502d0a0",
   "metadata": {},
   "outputs": [
    {
     "name": "stderr",
     "output_type": "stream",
     "text": [
      "\u001b[32m2025-05-06 17:56:07.081\u001b[0m | \u001b[1mINFO    \u001b[0m | \u001b[36msqldeps.llm_parsers.base\u001b[0m:\u001b[36m_process_files_sequentially\u001b[0m:\u001b[36m180\u001b[0m - \u001b[1mCache usage: enabled\u001b[0m\n",
      "\u001b[32m2025-05-06 17:56:07.082\u001b[0m | \u001b[1mINFO    \u001b[0m | \u001b[36msqldeps.llm_parsers.base\u001b[0m:\u001b[36m_process_files_sequentially\u001b[0m:\u001b[36m181\u001b[0m - \u001b[1mProcessing 5 SQL files sequentially with RPM: 100\u001b[0m\n",
      "Processing SQL files:   0%|          | 0/5 [00:00<?, ?it/s]\u001b[32m2025-05-06 17:56:07.084\u001b[0m | \u001b[1mINFO    \u001b[0m | \u001b[36msqldeps.cache\u001b[0m:\u001b[36mload_from_cache\u001b[0m:\u001b[36m99\u001b[0m - \u001b[1mLoading from cache: data/examples/folders_with_sql_files/example1.sql\u001b[0m\n",
      "\u001b[32m2025-05-06 17:56:07.084\u001b[0m | \u001b[1mINFO    \u001b[0m | \u001b[36msqldeps.cache\u001b[0m:\u001b[36mload_from_cache\u001b[0m:\u001b[36m99\u001b[0m - \u001b[1mLoading from cache: data/examples/folders_with_sql_files/example2.sql\u001b[0m\n",
      "\u001b[32m2025-05-06 17:56:07.084\u001b[0m | \u001b[1mINFO    \u001b[0m | \u001b[36msqldeps.cache\u001b[0m:\u001b[36mload_from_cache\u001b[0m:\u001b[36m99\u001b[0m - \u001b[1mLoading from cache: data/examples/folders_with_sql_files/subfolder1/example3.sql\u001b[0m\n",
      "\u001b[32m2025-05-06 17:56:07.085\u001b[0m | \u001b[1mINFO    \u001b[0m | \u001b[36msqldeps.cache\u001b[0m:\u001b[36mload_from_cache\u001b[0m:\u001b[36m99\u001b[0m - \u001b[1mLoading from cache: data/examples/folders_with_sql_files/subfolder2/subfolder2_1/example5.sql\u001b[0m\n",
      "\u001b[32m2025-05-06 17:56:07.086\u001b[0m | \u001b[1mINFO    \u001b[0m | \u001b[36msqldeps.cache\u001b[0m:\u001b[36mload_from_cache\u001b[0m:\u001b[36m99\u001b[0m - \u001b[1mLoading from cache: data/examples/folders_with_sql_files/subfolder2/subfolder2_1/example4.sql\u001b[0m\n",
      "Processing SQL files: 100%|██████████| 5/5 [00:00<00:00, 1757.44it/s]\n"
     ]
    },
    {
     "data": {
      "application/vnd.plotly.v1+json": {
       "config": {
        "plotlyServerURL": "https://plot.ly"
       },
       "data": [
        {
         "hoverinfo": "none",
         "line": {
          "color": "rgba(150, 150, 150, 0.5)",
          "width": 1
         },
         "mode": "lines",
         "showlegend": false,
         "type": "scatter",
         "x": [
          0.9999999999999999,
          0.5890129914036265,
          null,
          0.5890129914036265,
          0.726455076671991,
          null,
          0.5890129914036265,
          0.1434511547313195,
          null,
          -0.7375927909670192,
          -0.8854652070599854,
          null,
          -0.7375927909670192,
          -0.30787686430816497,
          null,
          -0.8854652070599854,
          -0.5279843604717663,
          null,
          -0.30787686430816497,
          0.1434511547313195,
          null,
          -0.30787686430816497,
          -0.5279843604717663,
          null
         ],
         "y": [
          -0.341426848543252,
          -0.39270153062597857,
          null,
          -0.39270153062597857,
          -0.7858324007817167,
          null,
          -0.39270153062597857,
          -0.10501957312620565,
          null,
          0.26530762439159694,
          0.5925762950966902,
          null,
          0.26530762439159694,
          0.19639329458705446,
          null,
          0.5925762950966902,
          0.5707031390018114,
          null,
          0.19639329458705446,
          -0.10501957312620565,
          null,
          0.19639329458705446,
          0.5707031390018114,
          null
         ]
        },
        {
         "hoverinfo": "text",
         "hovertext": [
          "<b>File:</b> data/examples/folders_with_sql_files/example1.sql<br><b>Tables Used:</b> 1<br>- users",
          "<b>File:</b> data/examples/folders_with_sql_files/example2.sql<br><b>Tables Used:</b> 1<br>- users",
          "<b>File:</b> data/examples/folders_with_sql_files/subfolder1/example3.sql<br><b>Tables Used:</b> 2<br>- my_db.users<br>- orders",
          "<b>File:</b> data/examples/folders_with_sql_files/subfolder2/subfolder2_1/example5.sql<br><b>Tables Used:</b> 2<br>- orders<br>- users",
          "<b>File:</b> data/examples/folders_with_sql_files/subfolder2/subfolder2_1/example4.sql<br><b>Tables Used:</b> 2<br>- my_db.users<br>- orders"
         ],
         "marker": {
          "color": "rgba(31, 119, 180, 0.8)",
          "line": {
           "color": "rgba(31, 119, 180, 1)",
           "width": 1
          },
          "size": [
           40,
           40,
           60,
           60,
           60
          ],
          "symbol": "hexagon2"
         },
         "mode": "markers+text",
         "name": "SQL File",
         "text": [
          "example1.sql",
          "example2.sql",
          "example3.sql",
          "example5.sql",
          "example4.sql"
         ],
         "textfont": {
          "size": 10
         },
         "textposition": "top center",
         "type": "scatter",
         "x": [
          0.9999999999999999,
          0.726455076671991,
          -0.7375927909670192,
          0.1434511547313195,
          -0.5279843604717663
         ],
         "y": [
          -0.341426848543252,
          -0.7858324007817167,
          0.26530762439159694,
          -0.10501957312620565,
          0.5707031390018114
         ]
        },
        {
         "hoverinfo": "text",
         "hovertext": [
          "<b>Table:</b> users<br><b>Used by 3 files:</b><br>- example1.sql<br>- example2.sql<br>- example5.sql<br><br><b>Columns (3):</b><br>- *<br>- id<br>- name",
          "<b>Table:</b> my_db.users<br><b>Used by 2 files:</b><br>- example3.sql<br>- example4.sql<br><br><b>Columns (4):</b><br>- email<br>- id<br>- name<br>- status",
          "<b>Table:</b> orders<br><b>Used by 3 files:</b><br>- example3.sql<br>- example5.sql<br>- example4.sql<br><br><b>Columns (7):</b><br>- order_date<br>- order_id<br>- order_type<br>- priority_level<br>- shipping_status<br>- total_amount<br>- user_id"
         ],
         "marker": {
          "color": "rgba(255, 127, 14, 0.8)",
          "line": {
           "color": "rgba(255, 127, 14, 1)",
           "width": 1
          },
          "size": [
           30,
           25,
           30
          ],
          "symbol": "circle"
         },
         "mode": "markers",
         "name": "Table",
         "text": [
          "users",
          "my_db.users",
          "orders"
         ],
         "textfont": {
          "size": 10
         },
         "textposition": "top center",
         "type": "scatter",
         "x": [
          0.5890129914036265,
          -0.8854652070599854,
          -0.30787686430816497
         ],
         "y": [
          -0.39270153062597857,
          0.5925762950966902,
          0.19639329458705446
         ]
        }
       ],
       "layout": {
        "annotations": [
         {
          "showarrow": false,
          "text": "Size indicates usage frequency",
          "x": 0.01,
          "xref": "paper",
          "y": 0.01,
          "yref": "paper"
         }
        ],
        "height": 800,
        "hovermode": "closest",
        "legend": {
         "itemsizing": "constant",
         "x": 0.01,
         "xanchor": "left",
         "y": 0.99,
         "yanchor": "top"
        },
        "margin": {
         "b": 20,
         "l": 5,
         "r": 5,
         "t": 80
        },
        "paper_bgcolor": "rgba(248, 248, 248, 1)",
        "plot_bgcolor": "rgba(248, 248, 248, 1)",
        "showlegend": true,
        "template": {
         "data": {
          "bar": [
           {
            "error_x": {
             "color": "#2a3f5f"
            },
            "error_y": {
             "color": "#2a3f5f"
            },
            "marker": {
             "line": {
              "color": "#E5ECF6",
              "width": 0.5
             },
             "pattern": {
              "fillmode": "overlay",
              "size": 10,
              "solidity": 0.2
             }
            },
            "type": "bar"
           }
          ],
          "barpolar": [
           {
            "marker": {
             "line": {
              "color": "#E5ECF6",
              "width": 0.5
             },
             "pattern": {
              "fillmode": "overlay",
              "size": 10,
              "solidity": 0.2
             }
            },
            "type": "barpolar"
           }
          ],
          "carpet": [
           {
            "aaxis": {
             "endlinecolor": "#2a3f5f",
             "gridcolor": "white",
             "linecolor": "white",
             "minorgridcolor": "white",
             "startlinecolor": "#2a3f5f"
            },
            "baxis": {
             "endlinecolor": "#2a3f5f",
             "gridcolor": "white",
             "linecolor": "white",
             "minorgridcolor": "white",
             "startlinecolor": "#2a3f5f"
            },
            "type": "carpet"
           }
          ],
          "choropleth": [
           {
            "colorbar": {
             "outlinewidth": 0,
             "ticks": ""
            },
            "type": "choropleth"
           }
          ],
          "contour": [
           {
            "colorbar": {
             "outlinewidth": 0,
             "ticks": ""
            },
            "colorscale": [
             [
              0,
              "#0d0887"
             ],
             [
              0.1111111111111111,
              "#46039f"
             ],
             [
              0.2222222222222222,
              "#7201a8"
             ],
             [
              0.3333333333333333,
              "#9c179e"
             ],
             [
              0.4444444444444444,
              "#bd3786"
             ],
             [
              0.5555555555555556,
              "#d8576b"
             ],
             [
              0.6666666666666666,
              "#ed7953"
             ],
             [
              0.7777777777777778,
              "#fb9f3a"
             ],
             [
              0.8888888888888888,
              "#fdca26"
             ],
             [
              1,
              "#f0f921"
             ]
            ],
            "type": "contour"
           }
          ],
          "contourcarpet": [
           {
            "colorbar": {
             "outlinewidth": 0,
             "ticks": ""
            },
            "type": "contourcarpet"
           }
          ],
          "heatmap": [
           {
            "colorbar": {
             "outlinewidth": 0,
             "ticks": ""
            },
            "colorscale": [
             [
              0,
              "#0d0887"
             ],
             [
              0.1111111111111111,
              "#46039f"
             ],
             [
              0.2222222222222222,
              "#7201a8"
             ],
             [
              0.3333333333333333,
              "#9c179e"
             ],
             [
              0.4444444444444444,
              "#bd3786"
             ],
             [
              0.5555555555555556,
              "#d8576b"
             ],
             [
              0.6666666666666666,
              "#ed7953"
             ],
             [
              0.7777777777777778,
              "#fb9f3a"
             ],
             [
              0.8888888888888888,
              "#fdca26"
             ],
             [
              1,
              "#f0f921"
             ]
            ],
            "type": "heatmap"
           }
          ],
          "histogram": [
           {
            "marker": {
             "pattern": {
              "fillmode": "overlay",
              "size": 10,
              "solidity": 0.2
             }
            },
            "type": "histogram"
           }
          ],
          "histogram2d": [
           {
            "colorbar": {
             "outlinewidth": 0,
             "ticks": ""
            },
            "colorscale": [
             [
              0,
              "#0d0887"
             ],
             [
              0.1111111111111111,
              "#46039f"
             ],
             [
              0.2222222222222222,
              "#7201a8"
             ],
             [
              0.3333333333333333,
              "#9c179e"
             ],
             [
              0.4444444444444444,
              "#bd3786"
             ],
             [
              0.5555555555555556,
              "#d8576b"
             ],
             [
              0.6666666666666666,
              "#ed7953"
             ],
             [
              0.7777777777777778,
              "#fb9f3a"
             ],
             [
              0.8888888888888888,
              "#fdca26"
             ],
             [
              1,
              "#f0f921"
             ]
            ],
            "type": "histogram2d"
           }
          ],
          "histogram2dcontour": [
           {
            "colorbar": {
             "outlinewidth": 0,
             "ticks": ""
            },
            "colorscale": [
             [
              0,
              "#0d0887"
             ],
             [
              0.1111111111111111,
              "#46039f"
             ],
             [
              0.2222222222222222,
              "#7201a8"
             ],
             [
              0.3333333333333333,
              "#9c179e"
             ],
             [
              0.4444444444444444,
              "#bd3786"
             ],
             [
              0.5555555555555556,
              "#d8576b"
             ],
             [
              0.6666666666666666,
              "#ed7953"
             ],
             [
              0.7777777777777778,
              "#fb9f3a"
             ],
             [
              0.8888888888888888,
              "#fdca26"
             ],
             [
              1,
              "#f0f921"
             ]
            ],
            "type": "histogram2dcontour"
           }
          ],
          "mesh3d": [
           {
            "colorbar": {
             "outlinewidth": 0,
             "ticks": ""
            },
            "type": "mesh3d"
           }
          ],
          "parcoords": [
           {
            "line": {
             "colorbar": {
              "outlinewidth": 0,
              "ticks": ""
             }
            },
            "type": "parcoords"
           }
          ],
          "pie": [
           {
            "automargin": true,
            "type": "pie"
           }
          ],
          "scatter": [
           {
            "fillpattern": {
             "fillmode": "overlay",
             "size": 10,
             "solidity": 0.2
            },
            "type": "scatter"
           }
          ],
          "scatter3d": [
           {
            "line": {
             "colorbar": {
              "outlinewidth": 0,
              "ticks": ""
             }
            },
            "marker": {
             "colorbar": {
              "outlinewidth": 0,
              "ticks": ""
             }
            },
            "type": "scatter3d"
           }
          ],
          "scattercarpet": [
           {
            "marker": {
             "colorbar": {
              "outlinewidth": 0,
              "ticks": ""
             }
            },
            "type": "scattercarpet"
           }
          ],
          "scattergeo": [
           {
            "marker": {
             "colorbar": {
              "outlinewidth": 0,
              "ticks": ""
             }
            },
            "type": "scattergeo"
           }
          ],
          "scattergl": [
           {
            "marker": {
             "colorbar": {
              "outlinewidth": 0,
              "ticks": ""
             }
            },
            "type": "scattergl"
           }
          ],
          "scattermap": [
           {
            "marker": {
             "colorbar": {
              "outlinewidth": 0,
              "ticks": ""
             }
            },
            "type": "scattermap"
           }
          ],
          "scattermapbox": [
           {
            "marker": {
             "colorbar": {
              "outlinewidth": 0,
              "ticks": ""
             }
            },
            "type": "scattermapbox"
           }
          ],
          "scatterpolar": [
           {
            "marker": {
             "colorbar": {
              "outlinewidth": 0,
              "ticks": ""
             }
            },
            "type": "scatterpolar"
           }
          ],
          "scatterpolargl": [
           {
            "marker": {
             "colorbar": {
              "outlinewidth": 0,
              "ticks": ""
             }
            },
            "type": "scatterpolargl"
           }
          ],
          "scatterternary": [
           {
            "marker": {
             "colorbar": {
              "outlinewidth": 0,
              "ticks": ""
             }
            },
            "type": "scatterternary"
           }
          ],
          "surface": [
           {
            "colorbar": {
             "outlinewidth": 0,
             "ticks": ""
            },
            "colorscale": [
             [
              0,
              "#0d0887"
             ],
             [
              0.1111111111111111,
              "#46039f"
             ],
             [
              0.2222222222222222,
              "#7201a8"
             ],
             [
              0.3333333333333333,
              "#9c179e"
             ],
             [
              0.4444444444444444,
              "#bd3786"
             ],
             [
              0.5555555555555556,
              "#d8576b"
             ],
             [
              0.6666666666666666,
              "#ed7953"
             ],
             [
              0.7777777777777778,
              "#fb9f3a"
             ],
             [
              0.8888888888888888,
              "#fdca26"
             ],
             [
              1,
              "#f0f921"
             ]
            ],
            "type": "surface"
           }
          ],
          "table": [
           {
            "cells": {
             "fill": {
              "color": "#EBF0F8"
             },
             "line": {
              "color": "white"
             }
            },
            "header": {
             "fill": {
              "color": "#C8D4E3"
             },
             "line": {
              "color": "white"
             }
            },
            "type": "table"
           }
          ]
         },
         "layout": {
          "annotationdefaults": {
           "arrowcolor": "#2a3f5f",
           "arrowhead": 0,
           "arrowwidth": 1
          },
          "autotypenumbers": "strict",
          "coloraxis": {
           "colorbar": {
            "outlinewidth": 0,
            "ticks": ""
           }
          },
          "colorscale": {
           "diverging": [
            [
             0,
             "#8e0152"
            ],
            [
             0.1,
             "#c51b7d"
            ],
            [
             0.2,
             "#de77ae"
            ],
            [
             0.3,
             "#f1b6da"
            ],
            [
             0.4,
             "#fde0ef"
            ],
            [
             0.5,
             "#f7f7f7"
            ],
            [
             0.6,
             "#e6f5d0"
            ],
            [
             0.7,
             "#b8e186"
            ],
            [
             0.8,
             "#7fbc41"
            ],
            [
             0.9,
             "#4d9221"
            ],
            [
             1,
             "#276419"
            ]
           ],
           "sequential": [
            [
             0,
             "#0d0887"
            ],
            [
             0.1111111111111111,
             "#46039f"
            ],
            [
             0.2222222222222222,
             "#7201a8"
            ],
            [
             0.3333333333333333,
             "#9c179e"
            ],
            [
             0.4444444444444444,
             "#bd3786"
            ],
            [
             0.5555555555555556,
             "#d8576b"
            ],
            [
             0.6666666666666666,
             "#ed7953"
            ],
            [
             0.7777777777777778,
             "#fb9f3a"
            ],
            [
             0.8888888888888888,
             "#fdca26"
            ],
            [
             1,
             "#f0f921"
            ]
           ],
           "sequentialminus": [
            [
             0,
             "#0d0887"
            ],
            [
             0.1111111111111111,
             "#46039f"
            ],
            [
             0.2222222222222222,
             "#7201a8"
            ],
            [
             0.3333333333333333,
             "#9c179e"
            ],
            [
             0.4444444444444444,
             "#bd3786"
            ],
            [
             0.5555555555555556,
             "#d8576b"
            ],
            [
             0.6666666666666666,
             "#ed7953"
            ],
            [
             0.7777777777777778,
             "#fb9f3a"
            ],
            [
             0.8888888888888888,
             "#fdca26"
            ],
            [
             1,
             "#f0f921"
            ]
           ]
          },
          "colorway": [
           "#636efa",
           "#EF553B",
           "#00cc96",
           "#ab63fa",
           "#FFA15A",
           "#19d3f3",
           "#FF6692",
           "#B6E880",
           "#FF97FF",
           "#FECB52"
          ],
          "font": {
           "color": "#2a3f5f"
          },
          "geo": {
           "bgcolor": "white",
           "lakecolor": "white",
           "landcolor": "#E5ECF6",
           "showlakes": true,
           "showland": true,
           "subunitcolor": "white"
          },
          "hoverlabel": {
           "align": "left"
          },
          "hovermode": "closest",
          "mapbox": {
           "style": "light"
          },
          "paper_bgcolor": "white",
          "plot_bgcolor": "#E5ECF6",
          "polar": {
           "angularaxis": {
            "gridcolor": "white",
            "linecolor": "white",
            "ticks": ""
           },
           "bgcolor": "#E5ECF6",
           "radialaxis": {
            "gridcolor": "white",
            "linecolor": "white",
            "ticks": ""
           }
          },
          "scene": {
           "xaxis": {
            "backgroundcolor": "#E5ECF6",
            "gridcolor": "white",
            "gridwidth": 2,
            "linecolor": "white",
            "showbackground": true,
            "ticks": "",
            "zerolinecolor": "white"
           },
           "yaxis": {
            "backgroundcolor": "#E5ECF6",
            "gridcolor": "white",
            "gridwidth": 2,
            "linecolor": "white",
            "showbackground": true,
            "ticks": "",
            "zerolinecolor": "white"
           },
           "zaxis": {
            "backgroundcolor": "#E5ECF6",
            "gridcolor": "white",
            "gridwidth": 2,
            "linecolor": "white",
            "showbackground": true,
            "ticks": "",
            "zerolinecolor": "white"
           }
          },
          "shapedefaults": {
           "line": {
            "color": "#2a3f5f"
           }
          },
          "ternary": {
           "aaxis": {
            "gridcolor": "white",
            "linecolor": "white",
            "ticks": ""
           },
           "baxis": {
            "gridcolor": "white",
            "linecolor": "white",
            "ticks": ""
           },
           "bgcolor": "#E5ECF6",
           "caxis": {
            "gridcolor": "white",
            "linecolor": "white",
            "ticks": ""
           }
          },
          "title": {
           "x": 0.05
          },
          "xaxis": {
           "automargin": true,
           "gridcolor": "white",
           "linecolor": "white",
           "ticks": "",
           "title": {
            "standoff": 15
           },
           "zerolinecolor": "white",
           "zerolinewidth": 2
          },
          "yaxis": {
           "automargin": true,
           "gridcolor": "white",
           "linecolor": "white",
           "ticks": "",
           "title": {
            "standoff": 15
           },
           "zerolinecolor": "white",
           "zerolinewidth": 2
          }
         }
        },
        "title": {
         "font": {
          "size": 16
         },
         "text": "SQL Dependency Graph (5 files, 3 tables)"
        },
        "updatemenus": [
         {
          "buttons": [
           {
            "args": [
             {
              "mode": [
               "lines",
               "markers+text",
               "markers+text"
              ]
             }
            ],
            "label": "Show All Text",
            "method": "restyle"
           },
           {
            "args": [
             {
              "mode": [
               "lines",
               "markers",
               "markers"
              ]
             }
            ],
            "label": "Hide All Text",
            "method": "restyle"
           },
           {
            "args": [
             {
              "mode": [
               "lines",
               "markers+text",
               "markers"
              ]
             }
            ],
            "label": "Files Text Only",
            "method": "restyle"
           },
           {
            "args": [
             {
              "mode": [
               "lines",
               "markers",
               "markers+text"
              ]
             }
            ],
            "label": "Tables Text Only",
            "method": "restyle"
           }
          ],
          "direction": "right",
          "pad": {
           "r": 10,
           "t": 10
          },
          "showactive": true,
          "type": "buttons",
          "x": 0.5,
          "xanchor": "center",
          "y": 1.15,
          "yanchor": "top"
         },
         {
          "buttons": [
           {
            "args": [
             {
              "x": [
               [
                -0.7324588025441059,
                -0.5992226560295195,
                null,
                -1,
                -0.5992226560295195,
                null,
                0.7364620450123941,
                0.8976419428826076,
                null,
                0.7364620450123941,
                0.30604145878052674,
                null,
                -0.14869523014035724,
                0.30604145878052674,
                null,
                -0.14869523014035724,
                -0.5992226560295195,
                null,
                0.5402312420384536,
                0.8976419428826076,
                null,
                0.5402312420384536,
                0.30604145878052674,
                null
               ],
               [
                -0.7324588025441059,
                -1,
                0.7364620450123941,
                -0.14869523014035724,
                0.5402312420384536
               ],
               [
                -0.5992226560295195,
                0.8976419428826076,
                0.30604145878052674
               ]
              ],
              "y": [
               [
                -0.7572933724622923,
                -0.3684891124526468,
                null,
                -0.301738576547018,
                -0.3684891124526468,
                null,
                0.23139262075669945,
                0.5475092302932199,
                null,
                0.23139262075669945,
                0.18841999636718004,
                null,
                -0.09040901100985066,
                0.18841999636718004,
                null,
                -0.09040901100985066,
                -0.3684891124526468,
                null,
                0.5506082250547083,
                0.5475092302932199,
                null,
                0.5506082250547083,
                0.18841999636718004,
                null
               ],
               [
                -0.7572933724622923,
                -0.301738576547018,
                0.23139262075669945,
                -0.09040901100985066,
                0.5506082250547083
               ],
               [
                -0.3684891124526468,
                0.5475092302932199,
                0.18841999636718004
               ]
              ]
             }
            ],
            "label": "Spring",
            "method": "update"
           },
           {
            "args": [
             {
              "x": [
               [
                1,
                0.5713387039080664,
                null,
                0.6619422256421057,
                0.5713387039080664,
                null,
                -0.7356811995186728,
                -0.9236163411736069,
                null,
                -0.7356811995186728,
                -0.26611210375374716,
                null,
                0.14997418337090385,
                -0.26611210375374716,
                null,
                0.14997418337090385,
                0.5713387039080664,
                null,
                -0.4578454684750493,
                -0.9236163411736069,
                null,
                -0.4578454684750493,
                -0.26611210375374716,
                null
               ],
               [
                1,
                0.6619422256421057,
                -0.7356811995186728,
                0.14997418337090385,
                -0.4578454684750493
               ],
               [
                0.5713387039080664,
                -0.9236163411736069,
                -0.26611210375374716
               ]
              ],
              "y": [
               [
                0.07029047496479084,
                0.2829811868608108,
                null,
                0.7528525916456505,
                0.2829811868608108,
                null,
                -0.015098110980058189,
                -0.4574604760923395,
                null,
                -0.015098110980058189,
                -0.1318040854720865,
                null,
                0.07428573221139899,
                -0.1318040854720865,
                null,
                0.07428573221139899,
                0.2829811868608108,
                null,
                -0.576047313138167,
                -0.4574604760923395,
                null,
                -0.576047313138167,
                -0.1318040854720865,
                null
               ],
               [
                0.07029047496479084,
                0.7528525916456505,
                -0.015098110980058189,
                0.07428573221139899,
                -0.576047313138167
               ],
               [
                0.2829811868608108,
                -0.4574604760923395,
                -0.1318040854720865
               ]
              ]
             }
            ],
            "label": "Kamada_kawai",
            "method": "update"
           },
           {
            "args": [
             {
              "x": [
               [
                1,
                0.7071067767953607,
                null,
                -1.738633258224092e-8,
                0.7071067767953607,
                null,
                -0.7071067241452516,
                -0.9999999473498908,
                null,
                -0.7071067241452516,
                -0.7071067837498948,
                null,
                3.824993487837225e-8,
                -0.7071067837498948,
                null,
                3.824993487837225e-8,
                0.7071067767953607,
                null,
                0.7071066575860743,
                -0.9999999473498908,
                null,
                0.7071066575860743,
                -0.7071067837498948,
                null
               ],
               [
                1,
                -1.738633258224092e-8,
                -0.7071067241452516,
                3.824993487837225e-8,
                0.7071066575860743
               ],
               [
                0.7071067767953607,
                -0.9999999473498908,
                -0.7071067837498948
               ]
              ],
              "y": [
               [
                1.8378427184795197e-8,
                0.7071067688487334,
                null,
                0.9999999920533726,
                0.7071067688487334,
                null,
                0.7071067688487334,
                -6.90443470872713e-8,
                null,
                0.7071067688487334,
                -0.7071066724872357,
                null,
                -0.9999999552965182,
                -0.7071066724872357,
                null,
                -0.9999999552965182,
                0.7071067688487334,
                null,
                -0.7071068513011654,
                -6.90443470872713e-8,
                null,
                -0.7071068513011654,
                -0.7071066724872357,
                null
               ],
               [
                1.8378427184795197e-8,
                0.9999999920533726,
                0.7071067688487334,
                -0.9999999552965182,
                -0.7071068513011654
               ],
               [
                0.7071067688487334,
                -6.90443470872713e-8,
                -0.7071066724872357
               ]
              ]
             }
            ],
            "label": "Circular",
            "method": "update"
           },
           {
            "args": [
             {
              "x": [
               [
                -2.1855694143368964e-8,
                -1,
                null,
                -0.4755282998085022,
                -1,
                null,
                -0.2938925325870514,
                0.49999991059303284,
                null,
                -0.2938925325870514,
                0.49999961256980896,
                null,
                0.2938927412033081,
                0.49999961256980896,
                null,
                0.2938927412033081,
                -1,
                null,
                0.47552821040153503,
                0.49999991059303284,
                null,
                0.47552821040153503,
                0.49999961256980896,
                null
               ],
               [
                -2.1855694143368964e-8,
                -0.4755282998085022,
                -0.2938925325870514,
                0.2938927412033081,
                0.47552821040153503
               ],
               [
                -1,
                0.49999991059303284,
                0.49999961256980896
               ]
              ],
              "y": [
               [
                0.5,
                -8.742277657347586e-8,
                null,
                0.15450839698314667,
                -8.742277657347586e-8,
                null,
                -0.4045085608959198,
                -0.866025447845459,
                null,
                -0.4045085608959198,
                0.8660256266593933,
                null,
                -0.40450841188430786,
                0.8660256266593933,
                null,
                -0.40450841188430786,
                -8.742277657347586e-8,
                null,
                0.15450865030288696,
                -0.866025447845459,
                null,
                0.15450865030288696,
                0.8660256266593933,
                null
               ],
               [
                0.5,
                0.15450839698314667,
                -0.4045085608959198,
                -0.40450841188430786,
                0.15450865030288696
               ],
               [
                -8.742277657347586e-8,
                -0.866025447845459,
                0.8660256266593933
               ]
              ]
             }
            ],
            "label": "Shell",
            "method": "update"
           }
          ],
          "direction": "right",
          "pad": {
           "r": 10,
           "t": 10
          },
          "showactive": true,
          "type": "buttons",
          "x": 0.5,
          "xanchor": "center",
          "y": 1.08,
          "yanchor": "top"
         }
        ],
        "xaxis": {
         "showgrid": false,
         "showticklabels": false,
         "zeroline": false
        },
        "yaxis": {
         "showgrid": false,
         "showticklabels": false,
         "zeroline": false
        }
       }
      }
     },
     "metadata": {},
     "output_type": "display_data"
    }
   ],
   "source": [
    "sql_profiles = extractor.extract_from_folder(\"data/examples/folders_with_sql_files/\", recursive = True)\n",
    "\n",
    "# Visualize the SQL dependencies\n",
    "fig = visualize_sql_dependencies(sql_profiles)\n",
    "fig.update_layout(height=800)"
   ]
  },
  {
   "cell_type": "markdown",
   "id": "02c2a7a2",
   "metadata": {},
   "source": [
    "## CLI"
   ]
  },
  {
   "cell_type": "code",
   "execution_count": 20,
   "id": "fafde797",
   "metadata": {},
   "outputs": [
    {
     "name": "stdout",
     "output_type": "stream",
     "text": [
      "SQLDeps version: 0.1.1\n"
     ]
    }
   ],
   "source": [
    "%%bash\n",
    "\n",
    "sqldeps --version"
   ]
  },
  {
   "cell_type": "code",
   "execution_count": 21,
   "id": "985c8dc3",
   "metadata": {},
   "outputs": [
    {
     "name": "stdout",
     "output_type": "stream",
     "text": [
      "\u001b[1m                                                                                \u001b[0m\n",
      "\u001b[1m \u001b[0m\u001b[1;33mUsage: \u001b[0m\u001b[1msqldeps [OPTIONS] COMMAND [ARGS]...\u001b[0m\u001b[1m                                    \u001b[0m\u001b[1m \u001b[0m\n",
      "\u001b[1m                                                                                \u001b[0m\n",
      " SQL Dependency Extractor - Analyze SQL files to extract table and column       \n",
      " dependencies                                                                   \n",
      "                                                                                \n",
      "                                                                                \n",
      "\u001b[2m╭─\u001b[0m\u001b[2m Options \u001b[0m\u001b[2m─────────────────────��─────────────────────────────────────────────\u001b[0m\u001b[2m─╮\u001b[0m\n",
      "\u001b[2m│\u001b[0m \u001b[1;36m-\u001b[0m\u001b[1;36m-version\u001b[0m                     Show the version and exit.                     \u001b[2m│\u001b[0m\n",
      "\u001b[2m│\u001b[0m \u001b[1;36m-\u001b[0m\u001b[1;36m-install\u001b[0m\u001b[1;36m-completion\u001b[0m          Install completion for the current shell.      \u001b[2m│\u001b[0m\n",
      "\u001b[2m│\u001b[0m \u001b[1;36m-\u001b[0m\u001b[1;36m-show\u001b[0m\u001b[1;36m-completion\u001b[0m             Show completion for the current shell, to copy \u001b[2m│\u001b[0m\n",
      "\u001b[2m│\u001b[0m                               it or customize the installation.              \u001b[2m│\u001b[0m\n",
      "\u001b[2m│\u001b[0m \u001b[1;36m-\u001b[0m\u001b[1;36m-help\u001b[0m                        Show this message and exit.                    \u001b[2m│\u001b[0m\n",
      "\u001b[2m╰───────��──────────────────────────────────────────────────────────────────���───╯\u001b[0m\n",
      "\u001b[2m╭─\u001b[0m\u001b[2m Commands \u001b[0m\u001b[2m─────────────────────���────────────────────────────────��───────────\u001b[0m\u001b[2m─╮\u001b[0m\n",
      "\u001b[2m│\u001b[0m \u001b[1;36mextract \u001b[0m\u001b[1;36m \u001b[0m Extract SQL dependencies from file or folder.                      \u001b[2m│\u001b[0m\n",
      "\u001b[2m│\u001b[0m \u001b[1;36mapp     \u001b[0m\u001b[1;36m \u001b[0m Run the SQLDeps web application                                    \u001b[2m│\u001b[0m\n",
      "\u001b[2m│\u001b[0m \u001b[1;36mcache   \u001b[0m\u001b[1;36m \u001b[0m Manage SQLDeps cache                                               \u001b[2m│\u001b[0m\n",
      "\u001b[2m╰───────────────────────��──────────────────────────────────────────────────────╯\u001b[0m\n",
      "\n"
     ]
    }
   ],
   "source": [
    "%%bash\n",
    "\n",
    "sqldeps --help"
   ]
  },
  {
   "cell_type": "code",
   "execution_count": 22,
   "id": "c59b783c",
   "metadata": {},
   "outputs": [
    {
     "name": "stdout",
     "output_type": "stream",
     "text": [
      "\u001b[1m                                                                                \u001b[0m\n",
      "\u001b[1m \u001b[0m\u001b[1;33mUsage: \u001b[0m\u001b[1msqldeps extract [OPTIONS] FPATH\u001b[0m\u001b[1m                                        \u001b[0m\u001b[1m \u001b[0m\n",
      "\u001b[1m                                                                                \u001b[0m\n",
      " Extract SQL dependencies from file or folder.                                  \n",
      "                                                                                \n",
      " \u001b[2mThis tool analyzes SQL files to identify table and column dependencies, \u001b[0m       \n",
      " \u001b[2moptionally validating them against a real database schema.\u001b[0m                     \n",
      "                                                                                \n",
      "\u001b[2m╭─\u001b[0m\u001b[2m Arguments \u001b[0m\u001b[2m───────────────────────────────────────────────���─────────────────\u001b[0m\u001b[2m─╮\u001b[0m\n",
      "\u001b[2m│\u001b[0m \u001b[31m*\u001b[0m    fpath      \u001b[1;33mPATH\u001b[0m  SQL file or directory path \u001b[2m[default: None]\u001b[0m \u001b[2;31m[required]\u001b[0m  \u001b[2m│\u001b[0m\n",
      "\u001b[2m╰────────────────────────────────────────────────────────────���─────────────────╯\u001b[0m\n",
      "\u001b[2m╭─\u001b[0m\u001b[2m Options \u001b[0m\u001b[2m─────────────────────��─────────────────────────────────────────────\u001b[0m\u001b[2m─╮\u001b[0m\n",
      "\u001b[2m│\u001b[0m \u001b[1;36m-\u001b[0m\u001b[1;36m-framework\u001b[0m                                    \u001b[1;33mTEXT   \u001b[0m  LLM framework to use \u001b[2m│\u001b[0m\n",
      "\u001b[2m│\u001b[0m                                                         [groq, openai,       \u001b[2m│\u001b[0m\n",
      "\u001b[2m│\u001b[0m                                                         deepseek]            \u001b[2m│\u001b[0m\n",
      "\u001b[2m│\u001b[0m                                                         \u001b[2m[default: groq]     \u001b[0m \u001b[2m│\u001b[0m\n",
      "\u001b[2m│\u001b[0m \u001b[1;36m-\u001b[0m\u001b[1;36m-model\u001b[0m                                        \u001b[1;33mTEXT   \u001b[0m  Model name for the   \u001b[2m│\u001b[0m\n",
      "\u001b[2m│\u001b[0m                                                         selected framework   \u001b[2m│\u001b[0m\n",
      "\u001b[2m│\u001b[0m                                                         \u001b[2m[default: None]     \u001b[0m \u001b[2m│\u001b[0m\n",
      "\u001b[2m│\u001b[0m \u001b[1;36m-\u001b[0m\u001b[1;36m-prompt\u001b[0m                                       \u001b[1;33mFILE   \u001b[0m  Path to custom       \u001b[2m│\u001b[0m\n",
      "\u001b[2m│\u001b[0m                                                         prompt YAML file     \u001b[2m│\u001b[0m\n",
      "\u001b[2m│\u001b[0m                                                         \u001b[2m[default: None]     \u001b[0m \u001b[2m│\u001b[0m\n",
      "\u001b[2m│\u001b[0m \u001b[1;36m-\u001b[0m\u001b[1;36m-recursive\u001b[0m          \u001b[1;32m-r\u001b[0m                        \u001b[1;33m       \u001b[0m  Recursively scan     \u001b[2m│\u001b[0m\n",
      "\u001b[2m│\u001b[0m                                                         folder for SQL files \u001b[2m│\u001b[0m\n",
      "\u001b[2m│\u001b[0m \u001b[1;36m-\u001b[0m\u001b[1;36m-db\u001b[0m\u001b[1;36m-match-schema\u001b[0m        \u001b[1;35m-\u001b[0m\u001b[1;35m-no\u001b[0m\u001b[1;35m-db-match-sch…\u001b[0m    \u001b[1;33m       \u001b[0m  Match dependencies   \u001b[2m│\u001b[0m\n",
      "\u001b[2m│\u001b[0m                                                         against database     \u001b[2m│\u001b[0m\n",
      "\u001b[2m│\u001b[0m                                                         schema               \u001b[2m│\u001b[0m\n",
      "\u001b[2m│\u001b[0m                                                         \u001b[2m[default:           \u001b[0m \u001b[2m│\u001b[0m\n",
      "\u001b[2m│\u001b[0m                                                         \u001b[2mno-db-match-schema] \u001b[0m \u001b[2m│\u001b[0m\n",
      "\u001b[2m│\u001b[0m \u001b[1;36m-\u001b[0m\u001b[1;36m-db\u001b[0m\u001b[1;36m-target-schemas\u001b[0m                            \u001b[1;33mTEXT   \u001b[0m  Comma-separated list \u001b[2m│\u001b[0m\n",
      "\u001b[2m│\u001b[0m                                                         of target schemas to \u001b[2m│\u001b[0m\n",
      "\u001b[2m│\u001b[0m                                                         validate against     \u001b[2m│\u001b[0m\n",
      "\u001b[2m│\u001b[0m                                                         \u001b[2m[default: public]   \u001b[0m \u001b[2m│\u001b[0m\n",
      "\u001b[2m│\u001b[0m \u001b[1;36m-\u001b[0m\u001b[1;36m-db\u001b[0m\u001b[1;36m-credentials\u001b[0m                               \u001b[1;33mFILE   \u001b[0m  Path to database     \u001b[2m│\u001b[0m\n",
      "\u001b[2m│\u001b[0m                                                         credentials YAML     \u001b[2m│\u001b[0m\n",
      "\u001b[2m│\u001b[0m                                                         file                 \u001b[2m│\u001b[0m\n",
      "\u001b[2m│\u001b[0m                                                         \u001b[2m[default: None]     \u001b[0m \u001b[2m│\u001b[0m\n",
      "\u001b[2m│\u001b[0m \u001b[1;36m-\u001b[0m\u001b[1;36m-db\u001b[0m\u001b[1;36m-dialect\u001b[0m                                   \u001b[1;33mTEXT   \u001b[0m  Database dialect to  \u001b[2m│\u001b[0m\n",
      "\u001b[2m│\u001b[0m                                                         use for schema       \u001b[2m│\u001b[0m\n",
      "\u001b[2m│\u001b[0m                                                         validation           \u001b[2m│\u001b[0m\n",
      "\u001b[2m│\u001b[0m                                                         \u001b[2m[default:           \u001b[0m \u001b[2m│\u001b[0m\n",
      "\u001b[2m│\u001b[0m                                                         \u001b[2mpostgresql]         \u001b[0m \u001b[2m│\u001b[0m\n",
      "\u001b[2m│\u001b[0m \u001b[1;36m-\u001b[0m\u001b[1;36m-n\u001b[0m\u001b[1;36m-workers\u001b[0m                                    \u001b[1;33mINTEGER\u001b[0m  Number of workers    \u001b[2m│\u001b[0m\n",
      "\u001b[2m│\u001b[0m                                                         for parallel         \u001b[2m│\u001b[0m\n",
      "\u001b[2m│\u001b[0m                                                         processing. Use \u001b[1;32m-1\u001b[0m   \u001b[2m│\u001b[0m\n",
      "\u001b[2m│\u001b[0m                                                         for all CPU cores, 1 \u001b[2m│\u001b[0m\n",
      "\u001b[2m│\u001b[0m                                                         for sequential       \u001b[2m│\u001b[0m\n",
      "\u001b[2m│\u001b[0m                                                         processing.          \u001b[2m│\u001b[0m\n",
      "\u001b[2m│\u001b[0m                                                         \u001b[2m[default: 1]        \u001b[0m \u001b[2m│\u001b[0m\n",
      "\u001b[2m│\u001b[0m \u001b[1;36m-\u001b[0m\u001b[1;36m-rpm\u001b[0m                                          \u001b[1;33mINTEGER\u001b[0m  Maximum requests per \u001b[2m│\u001b[0m\n",
      "\u001b[2m│\u001b[0m                                                         minute for API rate  \u001b[2m│\u001b[0m\n",
      "\u001b[2m│\u001b[0m                                                         limiting (0 to       \u001b[2m│\u001b[0m\n",
      "\u001b[2m│\u001b[0m                                                         disable)             \u001b[2m│\u001b[0m\n",
      "\u001b[2m│\u001b[0m                                                         \u001b[2m[default: 100]      \u001b[0m \u001b[2m│\u001b[0m\n",
      "\u001b[2m│\u001b[0m \u001b[1;36m-\u001b[0m\u001b[1;36m-use\u001b[0m\u001b[1;36m-cache\u001b[0m              \u001b[1;35m-\u001b[0m\u001b[1;35m-no\u001b[0m\u001b[1;35m-use-cache\u001b[0m        \u001b[1;33m       \u001b[0m  Use local cache for  \u001b[2m│\u001b[0m\n",
      "\u001b[2m│\u001b[0m                                                         SQL extraction       \u001b[2m��\u001b[0m\n",
      "\u001b[2m│\u001b[0m                                                         results              \u001b[2m���\u001b[0m\n",
      "\u001b[2m│\u001b[0m                                                         \u001b[2m[default: use-cache]\u001b[0m \u001b[2m│\u001b[0m\n",
      "\u001b[2m│\u001b[0m \u001b[1;36m-\u001b[0m\u001b[1;36m-clear\u001b[0m\u001b[1;36m-cache\u001b[0m            \u001b[1;35m-\u001b[0m\u001b[1;35m-no\u001b[0m\u001b[1;35m-clear-cache\u001b[0m      \u001b[1;33m       \u001b[0m  Clear local cache    \u001b[2m│\u001b[0m\n",
      "\u001b[2m��\u001b[0m                                                         after processing     \u001b[2m│\u001b[0m\n",
      "\u001b[2m���\u001b[0m                                                         \u001b[2m[default:           \u001b[0m \u001b[2m│\u001b[0m\n",
      "\u001b[2m│\u001b[0m                                                         \u001b[2mno-clear-cache]     \u001b[0m \u001b[2m│\u001b[0m\n",
      "\u001b[2m│\u001b[0m \u001b[1;36m-\u001b[0m\u001b[1;36m-output\u001b[0m             \u001b[1;32m-o\u001b[0m                        \u001b[1;33mPATH   \u001b[0m  Output file path for \u001b[2m│\u001b[0m\n",
      "\u001b[2m│\u001b[0m                                                         extracted            \u001b[2m│\u001b[0m\n",
      "\u001b[2m│\u001b[0m                                                         dependencies         \u001b[2m│\u001b[0m\n",
      "\u001b[2m│\u001b[0m                                                         \u001b[2m[default:           \u001b[0m \u001b[2m│\u001b[0m\n",
      "\u001b[2m│\u001b[0m                                                         \u001b[2mdependencies.json]  \u001b[0m \u001b[2m│\u001b[0m\n",
      "\u001b[2m│\u001b[0m \u001b[1;36m-\u001b[0m\u001b[1;36m-help\u001b[0m                                         \u001b[1;33m       \u001b[0m  Show this message    \u001b[2m│\u001b[0m\n",
      "\u001b[2m│\u001b[0m                                                         and exit.            \u001b[2m│\u001b[0m\n",
      "\u001b[2m╰──────────────────────────��───────────────────────────────────────────────────╯\u001b[0m\n",
      "\n"
     ]
    }
   ],
   "source": [
    "%%bash\n",
    "\n",
    "sqldeps extract --help"
   ]
  },
  {
   "cell_type": "code",
   "execution_count": 23,
   "id": "0b3701c6",
   "metadata": {},
   "outputs": [
    {
     "name": "stderr",
     "output_type": "stream",
     "text": [
      "2025-05-06 17:56:14.368 | INFO     | sqldeps.cli:extract_dependencies:74 - Extracting dependencies from file: /home/cmcouto-silva/Projects/sqldeps/data/examples/example.sql\n",
      "2025-05-06 17:56:15.077 | SUCCESS  | sqldeps.cli:save_output:183 - Saved to JSON: dependencies.json\n"
     ]
    }
   ],
   "source": [
    "%%bash\n",
    "\n",
    "# Extract from file\n",
    "sqldeps extract data/examples/example.sql"
   ]
  },
  {
   "cell_type": "code",
   "execution_count": 24,
   "id": "a9aa2cdc",
   "metadata": {},
   "outputs": [
    {
     "name": "stderr",
     "output_type": "stream",
     "text": [
      "2025-05-06 17:56:16.979 | INFO     | sqldeps.cli:extract_dependencies:74 - Extracting dependencies from folder: /home/cmcouto-silva/Projects/sqldeps/data/examples/folders_with_sql_files\n",
      "2025-05-06 17:56:16.979 | INFO     | sqldeps.llm_parsers.base:_process_files_sequentially:180 - Cache usage: enabled\n",
      "2025-05-06 17:56:16.979 | INFO     | sqldeps.llm_parsers.base:_process_files_sequentially:181 - Processing 5 SQL files sequentially with RPM: 100\n",
      "Processing SQL files:   0%|          | 0/5 [00:00<?, ?it/s]2025-05-06 17:56:16.980 | INFO     | sqldeps.cache:load_from_cache:99 - Loading from cache: /home/cmcouto-silva/Projects/sqldeps/data/examples/folders_with_sql_files/example1.sql\n",
      "2025-05-06 17:56:16.980 | INFO     | sqldeps.cache:load_from_cache:99 - Loading from cache: /home/cmcouto-silva/Projects/sqldeps/data/examples/folders_with_sql_files/example2.sql\n",
      "2025-05-06 17:56:16.980 | INFO     | sqldeps.cache:load_from_cache:99 - Loading from cache: /home/cmcouto-silva/Projects/sqldeps/data/examples/folders_with_sql_files/subfolder1/example3.sql\n",
      "2025-05-06 17:56:16.980 | INFO     | sqldeps.cache:load_from_cache:99 - Loading from cache: /home/cmcouto-silva/Projects/sqldeps/data/examples/folders_with_sql_files/subfolder2/subfolder2_1/example5.sql\n",
      "2025-05-06 17:56:16.980 | INFO     | sqldeps.cache:load_from_cache:99 - Loading from cache: /home/cmcouto-silva/Projects/sqldeps/data/examples/folders_with_sql_files/subfolder2/subfolder2_1/example4.sql\n",
      "Processing SQL files: 100%|██████████| 5/5 [00:00<00:00, 8361.85it/s]\n",
      "2025-05-06 17:56:16.984 | SUCCESS  | sqldeps.cli:save_output:173 - Saved to CSV: project_sql_profiles.csv\n"
     ]
    }
   ],
   "source": [
    "%%bash\n",
    "\n",
    "# Extract from folder resursively & return CSV (accepts JSON and CSV as output formats)\n",
    "sqldeps extract data/examples/folders_with_sql_files --recursive -o project_sql_profiles.csv"
   ]
  },
  {
   "cell_type": "code",
   "execution_count": 25,
   "id": "b8c19c13",
   "metadata": {},
   "outputs": [
    {
     "name": "stderr",
     "output_type": "stream",
     "text": [
      "2025-05-06 17:56:18.748 | INFO     | sqldeps.cli:cache_clear:379 - Clearing SQLDeps cache...\n",
      "2025-05-06 17:56:18.748 | INFO     | sqldeps.cache:cleanup_cache:126 - Removed cache directory: .sqldeps_cache\n",
      "2025-05-06 17:56:18.748 | SUCCESS  | sqldeps.cli:cache_clear:382 - Cache cleared successfully\n"
     ]
    }
   ],
   "source": [
    "%%bash\n",
    "\n",
    "# Clear cache\n",
    "sqldeps cache clear"
   ]
  }
 ],
 "metadata": {
  "kernelspec": {
   "display_name": ".venv",
   "language": "python",
   "name": "python3"
  },
  "language_info": {
   "codemirror_mode": {
    "name": "ipython",
    "version": 3
   },
   "file_extension": ".py",
   "mimetype": "text/x-python",
   "name": "python",
   "nbconvert_exporter": "python",
   "pygments_lexer": "ipython3",
   "version": "3.13.0"
  }
 },
 "nbformat": 4,
 "nbformat_minor": 5
}
